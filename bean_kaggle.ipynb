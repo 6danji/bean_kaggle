{
  "nbformat": 4,
  "nbformat_minor": 0,
  "metadata": {
    "colab": {
      "provenance": []
    },
    "kernelspec": {
      "name": "python3",
      "display_name": "Python 3"
    },
    "language_info": {
      "name": "python"
    }
  },
  "cells": [
    {
      "cell_type": "code",
      "metadata": {
        "id": "piYxKHV8F3Hd",
        "colab": {
          "base_uri": "https://localhost:8080/",
          "height": 1000
        },
        "outputId": "c60b3ae6-2ef6-4c3d-c3d4-1dcc92c6b309"
      },
      "source": [
        "import pandas as pd\n",
        "import io\n",
        "\n",
        "# 取得資料集\n",
        "df = pd.read_csv(\"bean_train.csv\")\n",
        "print('資料的形式:{}'.format(df.shape))\n",
        "print('遺漏的數量:{}'.format(df.isnull().sum().sum()))\n",
        "df.head()\n",
        "# 設定亂數產生器的起始點(包含Numpy與Tensorflow)\n",
        "seed = 123\n",
        "from numpy import random\n",
        "random.seed(seed)\n",
        "import tensorflow as tf\n",
        "tf.random.set_seed(seed)\n",
        "# 載入使用的套件及子套件\n",
        "import numpy as np\n",
        "from keras.models import Sequential\n",
        "from keras.layers import Dense\n",
        "# 設定資料\n",
        "X = df[['Area','Perimeter','MajorAxisLength','MinorAxisLength','AspectRation','Eccentricity','ConvexArea','EquivDiameter','Extent','Solidity','roundness','Compactness','ShapeFactor1','ShapeFactor2','ShapeFactor3','ShapeFactor4']]\n",
        "Y = df['Class']\n",
        "print(X.shape)\n",
        "print(Y.shape)\n",
        "np.unique(Y)\n",
        "from sklearn.preprocessing import LabelEncoder\n",
        "labelencoder = LabelEncoder()\n",
        "data_le=pd.DataFrame(Y)\n",
        "data_le['Class'] = labelencoder.fit_transform(data_le['Class'])\n",
        "data_le\n",
        "from sklearn.preprocessing import OneHotEncoder\n",
        "onehotencoder = OneHotEncoder()\n",
        "data_str_ohe=onehotencoder.fit_transform(data_le).toarray()\n",
        "y = pd.DataFrame(data_str_ohe)\n",
        "# 正規化屬性數值\n",
        "from sklearn import preprocessing\n",
        "#minmax_scale = preprocessing.MinMaxScaler(feature_range=(0, 1))\n",
        "#X = minmax_scale.fit_transform(X)\n",
        "standard_scale = preprocessing.StandardScaler()\n",
        "X = standard_scale.fit_transform(X)\n",
        "print(X)\n",
        "# 將資料集分為訓練資料與測試資料\n",
        "from sklearn.model_selection import train_test_split\n",
        "X_train, X_test, y_train, y_test = train_test_split(X, y, test_size=0.2, random_state=0)\n",
        "print(X.shape)\n",
        "print(X_train.shape)\n",
        "print(X_test.shape)\n",
        "print(y.shape)\n",
        "print(y_train.shape)\n",
        "print(y_test.shape)\n",
        "# 建構優化後的神經網路模型\n",
        "model = Sequential()\n",
        "\n",
        "# 第一個隱藏層：增加神經元數量\n",
        "model.add(Dense(units=32, input_dim=16,\n",
        "                kernel_initializer='uniform',\n",
        "                activation='relu'))\n",
        "\n",
        "# 可以選擇添加一個 Dropout 層 (如果擔心過度擬合)\n",
        "# model.add(Dropout(0.2)) # Dropout rate 為 0.2，表示隨機捨棄 20% 的神經元\n",
        "\n",
        "# 第二個隱藏層：增加神經元數量\n",
        "model.add(Dense(units=16,\n",
        "                kernel_initializer='uniform',\n",
        "                activation='relu'))\n",
        "\n",
        "# 第三個隱藏層 (新增)\n",
        "model.add(Dense(units=8,\n",
        "                kernel_initializer='uniform',\n",
        "                activation='relu'))\n",
        "\n",
        "# 輸出層\n",
        "model.add(Dense(units=7,\n",
        "                kernel_initializer='uniform',\n",
        "                activation='softmax'))\n",
        "\n",
        "model.summary()\n",
        "\n",
        "# 編譯模型\n",
        "model.compile(loss='categorical_crossentropy',\n",
        "              optimizer='adam', # 您可以使用其他的優化器，例如 'sgd'\n",
        "              metrics=['accuracy'])\n",
        "\n",
        "# 訓練模型\n",
        "train_history = model.fit(X_train, y_train,\n",
        "                          epochs=50, # 您可以嘗試增加 epochs\n",
        "                          batch_size=100, # 您可以嘗試調整 batch size\n",
        "                          verbose=2) # 從訓練資料中分出 10% 作為驗證集\n",
        "\n",
        "import matplotlib.pyplot as plt\n",
        "def show_train_history(train_history,train):\n",
        "    plt.plot(train_history.history[train])\n",
        "    plt.title('Train History')\n",
        "    plt.ylabel(train)\n",
        "    plt.xlabel('Epoch')\n",
        "    plt.legend(['train'], loc='best')\n",
        "    plt.show()\n",
        "show_train_history(train_history,'accuracy')\n",
        "show_train_history(train_history,'loss')\n",
        "scores = model.evaluate(x=X_test, y=y_test)\n",
        "# 取得資料集\n",
        "df_predict = pd.read_csv(\"bean_predict.csv\")\n",
        "print('資料的形式:{}'.format(df_predict.shape))\n",
        "print('遺漏的數量:{}'.format(df_predict.isnull().sum().sum()))\n",
        "df_predict.head()\n",
        "X_predict = df_predict[['Area','Perimeter','MajorAxisLength','MinorAxisLength','AspectRation','Eccentricity','ConvexArea','EquivDiameter','Extent','Solidity','roundness','Compactness','ShapeFactor1','ShapeFactor2','ShapeFactor3','ShapeFactor4']]\n",
        "print(X_predict.shape)\n",
        "X_predict.head()\n",
        "# 正規化屬性數值\n",
        "standard_scale1 = preprocessing.StandardScaler()\n",
        "X_predict = standard_scale1.fit_transform(X_predict)\n",
        "#prediction = model.predict_classes(X_predict)\n",
        "prediction = np.argmax(model.predict(X_predict), axis=1)\n",
        "\n",
        "#將結果寫入 csv 檔\n",
        "with open(\"predict.csv\", 'w') as f:\n",
        "    f.write('Id,Class\\n')\n",
        "    for i, y in  enumerate(prediction):\n",
        "        f.write('{},{}\\n'.format(i, y))"
      ],
      "execution_count": null,
      "outputs": [
        {
          "output_type": "stream",
          "name": "stdout",
          "text": [
            "資料的形式:(10825, 17)\n",
            "遺漏的數量:0\n",
            "(10825, 16)\n",
            "(10825,)\n",
            "[[-0.4086445  -0.58074211 -0.83363525 ...  1.61124694  2.04821793\n",
            "   0.95335989]\n",
            " [ 0.39878395  0.77687685  1.16364947 ... -1.41576775 -1.78112835\n",
            "  -1.20478551]\n",
            " [-0.44976103 -0.41403288 -0.34813841 ... -0.14751273 -0.42481398\n",
            "   0.04198555]\n",
            " ...\n",
            " [-0.5525185  -0.67981988 -0.93577411 ...  1.60487736  1.73371673\n",
            "   0.40074444]\n",
            " [-0.92937489 -1.13754013 -1.01838155 ...  0.54068567 -0.40788452\n",
            "   0.54917147]\n",
            " [ 0.01102186  0.09684198  0.0967487  ... -0.35133928 -0.13493554\n",
            "   0.54822854]]\n",
            "(10825, 16)\n",
            "(8660, 16)\n",
            "(2165, 16)\n",
            "(10825, 7)\n",
            "(8660, 7)\n",
            "(2165, 7)\n"
          ]
        },
        {
          "output_type": "stream",
          "name": "stderr",
          "text": [
            "/usr/local/lib/python3.11/dist-packages/keras/src/layers/core/dense.py:87: UserWarning: Do not pass an `input_shape`/`input_dim` argument to a layer. When using Sequential models, prefer using an `Input(shape)` object as the first layer in the model instead.\n",
            "  super().__init__(activity_regularizer=activity_regularizer, **kwargs)\n"
          ]
        },
        {
          "output_type": "display_data",
          "data": {
            "text/plain": [
              "\u001b[1mModel: \"sequential_15\"\u001b[0m\n"
            ],
            "text/html": [
              "<pre style=\"white-space:pre;overflow-x:auto;line-height:normal;font-family:Menlo,'DejaVu Sans Mono',consolas,'Courier New',monospace\"><span style=\"font-weight: bold\">Model: \"sequential_15\"</span>\n",
              "</pre>\n"
            ]
          },
          "metadata": {}
        },
        {
          "output_type": "display_data",
          "data": {
            "text/plain": [
              "┏━━━━━━━━━━━━━━━━━━━━━━━━━━━━━━━━━┳━━━━━━━━━━━━━━━━━━━━━━━━┳━━━━━━━━━━━━━━━┓\n",
              "┃\u001b[1m \u001b[0m\u001b[1mLayer (type)                   \u001b[0m\u001b[1m \u001b[0m┃\u001b[1m \u001b[0m\u001b[1mOutput Shape          \u001b[0m\u001b[1m \u001b[0m┃\u001b[1m \u001b[0m\u001b[1m      Param #\u001b[0m\u001b[1m \u001b[0m┃\n",
              "┡━━━━━━━━━━━━━━━━━━━━━━━━━━━━━━━━━╇━━━━━━━━━━━━━━━━━━━━━━━━╇━━━━━━━━━━━━━━━┩\n",
              "│ dense_54 (\u001b[38;5;33mDense\u001b[0m)                │ (\u001b[38;5;45mNone\u001b[0m, \u001b[38;5;34m32\u001b[0m)             │           \u001b[38;5;34m544\u001b[0m │\n",
              "├─────────────────────────────────┼────────────────────────┼───────────────┤\n",
              "│ dense_55 (\u001b[38;5;33mDense\u001b[0m)                │ (\u001b[38;5;45mNone\u001b[0m, \u001b[38;5;34m16\u001b[0m)             │           \u001b[38;5;34m528\u001b[0m │\n",
              "├─────────────────────────────────┼────────────────────────┼───────────────┤\n",
              "│ dense_56 (\u001b[38;5;33mDense\u001b[0m)                │ (\u001b[38;5;45mNone\u001b[0m, \u001b[38;5;34m8\u001b[0m)              │           \u001b[38;5;34m136\u001b[0m │\n",
              "├─────────────────────────────────┼────────────────────────┼───────────────┤\n",
              "│ dense_57 (\u001b[38;5;33mDense\u001b[0m)                │ (\u001b[38;5;45mNone\u001b[0m, \u001b[38;5;34m7\u001b[0m)              │            \u001b[38;5;34m63\u001b[0m │\n",
              "└─────────────────────────────────┴────────────────────────┴───────────────┘\n"
            ],
            "text/html": [
              "<pre style=\"white-space:pre;overflow-x:auto;line-height:normal;font-family:Menlo,'DejaVu Sans Mono',consolas,'Courier New',monospace\">┏━━━━━━━━━━━━━━━━━━━━━━━━━━━━━━━━━┳━━━━━━━━━━━━━━━━━━━━━━━━┳━━━━━━━━━━━━━━━┓\n",
              "┃<span style=\"font-weight: bold\"> Layer (type)                    </span>┃<span style=\"font-weight: bold\"> Output Shape           </span>┃<span style=\"font-weight: bold\">       Param # </span>┃\n",
              "┡━━━━━━━━━━━━━━━━━━━━━━━━━━━━━━━━━╇━━━━━━━━━━━━━━━━━━━━━━━━╇━━━━━━━━━━━━━━━┩\n",
              "│ dense_54 (<span style=\"color: #0087ff; text-decoration-color: #0087ff\">Dense</span>)                │ (<span style=\"color: #00d7ff; text-decoration-color: #00d7ff\">None</span>, <span style=\"color: #00af00; text-decoration-color: #00af00\">32</span>)             │           <span style=\"color: #00af00; text-decoration-color: #00af00\">544</span> │\n",
              "├─────────────────────────────────┼────────────────────────┼───────────────┤\n",
              "│ dense_55 (<span style=\"color: #0087ff; text-decoration-color: #0087ff\">Dense</span>)                │ (<span style=\"color: #00d7ff; text-decoration-color: #00d7ff\">None</span>, <span style=\"color: #00af00; text-decoration-color: #00af00\">16</span>)             │           <span style=\"color: #00af00; text-decoration-color: #00af00\">528</span> │\n",
              "├─────────────────────────────────┼────────────────────────┼───────────────┤\n",
              "│ dense_56 (<span style=\"color: #0087ff; text-decoration-color: #0087ff\">Dense</span>)                │ (<span style=\"color: #00d7ff; text-decoration-color: #00d7ff\">None</span>, <span style=\"color: #00af00; text-decoration-color: #00af00\">8</span>)              │           <span style=\"color: #00af00; text-decoration-color: #00af00\">136</span> │\n",
              "├─────────────────────────────────┼────────────────────────┼───────────────┤\n",
              "│ dense_57 (<span style=\"color: #0087ff; text-decoration-color: #0087ff\">Dense</span>)                │ (<span style=\"color: #00d7ff; text-decoration-color: #00d7ff\">None</span>, <span style=\"color: #00af00; text-decoration-color: #00af00\">7</span>)              │            <span style=\"color: #00af00; text-decoration-color: #00af00\">63</span> │\n",
              "└─────────────────────────────────┴────────────────────────┴───────────────┘\n",
              "</pre>\n"
            ]
          },
          "metadata": {}
        },
        {
          "output_type": "display_data",
          "data": {
            "text/plain": [
              "\u001b[1m Total params: \u001b[0m\u001b[38;5;34m1,271\u001b[0m (4.96 KB)\n"
            ],
            "text/html": [
              "<pre style=\"white-space:pre;overflow-x:auto;line-height:normal;font-family:Menlo,'DejaVu Sans Mono',consolas,'Courier New',monospace\"><span style=\"font-weight: bold\"> Total params: </span><span style=\"color: #00af00; text-decoration-color: #00af00\">1,271</span> (4.96 KB)\n",
              "</pre>\n"
            ]
          },
          "metadata": {}
        },
        {
          "output_type": "display_data",
          "data": {
            "text/plain": [
              "\u001b[1m Trainable params: \u001b[0m\u001b[38;5;34m1,271\u001b[0m (4.96 KB)\n"
            ],
            "text/html": [
              "<pre style=\"white-space:pre;overflow-x:auto;line-height:normal;font-family:Menlo,'DejaVu Sans Mono',consolas,'Courier New',monospace\"><span style=\"font-weight: bold\"> Trainable params: </span><span style=\"color: #00af00; text-decoration-color: #00af00\">1,271</span> (4.96 KB)\n",
              "</pre>\n"
            ]
          },
          "metadata": {}
        },
        {
          "output_type": "display_data",
          "data": {
            "text/plain": [
              "\u001b[1m Non-trainable params: \u001b[0m\u001b[38;5;34m0\u001b[0m (0.00 B)\n"
            ],
            "text/html": [
              "<pre style=\"white-space:pre;overflow-x:auto;line-height:normal;font-family:Menlo,'DejaVu Sans Mono',consolas,'Courier New',monospace\"><span style=\"font-weight: bold\"> Non-trainable params: </span><span style=\"color: #00af00; text-decoration-color: #00af00\">0</span> (0.00 B)\n",
              "</pre>\n"
            ]
          },
          "metadata": {}
        },
        {
          "output_type": "stream",
          "name": "stdout",
          "text": [
            "Epoch 1/50\n",
            "87/87 - 2s - 21ms/step - accuracy: 0.2703 - loss: 1.8646\n",
            "Epoch 2/50\n",
            "87/87 - 0s - 3ms/step - accuracy: 0.4618 - loss: 1.2078\n",
            "Epoch 3/50\n",
            "87/87 - 0s - 3ms/step - accuracy: 0.6799 - loss: 0.7486\n",
            "Epoch 4/50\n",
            "87/87 - 0s - 4ms/step - accuracy: 0.7627 - loss: 0.5537\n",
            "Epoch 5/50\n",
            "87/87 - 0s - 3ms/step - accuracy: 0.7993 - loss: 0.4902\n",
            "Epoch 6/50\n",
            "87/87 - 0s - 3ms/step - accuracy: 0.8256 - loss: 0.4486\n",
            "Epoch 7/50\n",
            "87/87 - 0s - 3ms/step - accuracy: 0.8502 - loss: 0.4090\n",
            "Epoch 8/50\n",
            "87/87 - 0s - 4ms/step - accuracy: 0.8721 - loss: 0.3660\n",
            "Epoch 9/50\n",
            "87/87 - 0s - 3ms/step - accuracy: 0.8880 - loss: 0.3264\n",
            "Epoch 10/50\n",
            "87/87 - 0s - 3ms/step - accuracy: 0.8967 - loss: 0.2956\n",
            "Epoch 11/50\n",
            "87/87 - 0s - 3ms/step - accuracy: 0.9012 - loss: 0.2762\n",
            "Epoch 12/50\n",
            "87/87 - 0s - 4ms/step - accuracy: 0.9030 - loss: 0.2652\n",
            "Epoch 13/50\n",
            "87/87 - 0s - 3ms/step - accuracy: 0.9055 - loss: 0.2578\n",
            "Epoch 14/50\n",
            "87/87 - 0s - 4ms/step - accuracy: 0.9072 - loss: 0.2522\n",
            "Epoch 15/50\n",
            "87/87 - 0s - 3ms/step - accuracy: 0.9083 - loss: 0.2476\n",
            "Epoch 16/50\n",
            "87/87 - 0s - 3ms/step - accuracy: 0.9102 - loss: 0.2437\n",
            "Epoch 17/50\n",
            "87/87 - 0s - 3ms/step - accuracy: 0.9120 - loss: 0.2402\n",
            "Epoch 18/50\n",
            "87/87 - 0s - 3ms/step - accuracy: 0.9139 - loss: 0.2370\n",
            "Epoch 19/50\n",
            "87/87 - 0s - 4ms/step - accuracy: 0.9151 - loss: 0.2339\n",
            "Epoch 20/50\n",
            "87/87 - 0s - 3ms/step - accuracy: 0.9159 - loss: 0.2310\n",
            "Epoch 21/50\n",
            "87/87 - 0s - 3ms/step - accuracy: 0.9165 - loss: 0.2282\n",
            "Epoch 22/50\n",
            "87/87 - 0s - 3ms/step - accuracy: 0.9176 - loss: 0.2257\n",
            "Epoch 23/50\n",
            "87/87 - 0s - 3ms/step - accuracy: 0.9181 - loss: 0.2234\n",
            "Epoch 24/50\n",
            "87/87 - 0s - 3ms/step - accuracy: 0.9196 - loss: 0.2212\n",
            "Epoch 25/50\n",
            "87/87 - 0s - 3ms/step - accuracy: 0.9202 - loss: 0.2193\n",
            "Epoch 26/50\n",
            "87/87 - 0s - 3ms/step - accuracy: 0.9206 - loss: 0.2176\n",
            "Epoch 27/50\n",
            "87/87 - 0s - 3ms/step - accuracy: 0.9209 - loss: 0.2162\n",
            "Epoch 28/50\n",
            "87/87 - 0s - 3ms/step - accuracy: 0.9212 - loss: 0.2149\n",
            "Epoch 29/50\n",
            "87/87 - 0s - 5ms/step - accuracy: 0.9223 - loss: 0.2137\n",
            "Epoch 30/50\n",
            "87/87 - 1s - 7ms/step - accuracy: 0.9231 - loss: 0.2126\n",
            "Epoch 31/50\n",
            "87/87 - 1s - 7ms/step - accuracy: 0.9229 - loss: 0.2116\n",
            "Epoch 32/50\n",
            "87/87 - 1s - 7ms/step - accuracy: 0.9236 - loss: 0.2107\n",
            "Epoch 33/50\n",
            "87/87 - 1s - 8ms/step - accuracy: 0.9234 - loss: 0.2100\n",
            "Epoch 34/50\n",
            "87/87 - 1s - 6ms/step - accuracy: 0.9241 - loss: 0.2091\n",
            "Epoch 35/50\n",
            "87/87 - 1s - 6ms/step - accuracy: 0.9246 - loss: 0.2083\n",
            "Epoch 36/50\n",
            "87/87 - 0s - 4ms/step - accuracy: 0.9247 - loss: 0.2076\n",
            "Epoch 37/50\n",
            "87/87 - 0s - 3ms/step - accuracy: 0.9248 - loss: 0.2069\n",
            "Epoch 38/50\n",
            "87/87 - 0s - 4ms/step - accuracy: 0.9244 - loss: 0.2064\n",
            "Epoch 39/50\n",
            "87/87 - 0s - 3ms/step - accuracy: 0.9246 - loss: 0.2058\n",
            "Epoch 40/50\n",
            "87/87 - 0s - 3ms/step - accuracy: 0.9247 - loss: 0.2053\n",
            "Epoch 41/50\n",
            "87/87 - 0s - 3ms/step - accuracy: 0.9248 - loss: 0.2048\n",
            "Epoch 42/50\n",
            "87/87 - 0s - 4ms/step - accuracy: 0.9248 - loss: 0.2044\n",
            "Epoch 43/50\n",
            "87/87 - 0s - 3ms/step - accuracy: 0.9252 - loss: 0.2040\n",
            "Epoch 44/50\n",
            "87/87 - 0s - 3ms/step - accuracy: 0.9260 - loss: 0.2036\n",
            "Epoch 45/50\n",
            "87/87 - 0s - 4ms/step - accuracy: 0.9261 - loss: 0.2032\n",
            "Epoch 46/50\n",
            "87/87 - 0s - 3ms/step - accuracy: 0.9262 - loss: 0.2028\n",
            "Epoch 47/50\n",
            "87/87 - 0s - 4ms/step - accuracy: 0.9261 - loss: 0.2024\n",
            "Epoch 48/50\n",
            "87/87 - 0s - 3ms/step - accuracy: 0.9261 - loss: 0.2021\n",
            "Epoch 49/50\n",
            "87/87 - 0s - 3ms/step - accuracy: 0.9260 - loss: 0.2018\n",
            "Epoch 50/50\n",
            "87/87 - 0s - 3ms/step - accuracy: 0.9259 - loss: 0.2014\n"
          ]
        },
        {
          "output_type": "display_data",
          "data": {
            "text/plain": [
              "<Figure size 640x480 with 1 Axes>"
            ],
            "image/png": "[encoded data removed]"
          },
          "metadata": {}
        },
        {
          "output_type": "display_data",
          "data": {
            "text/plain": [
              "<Figure size 640x480 with 1 Axes>"
            ],
            "image/png": "[encoded data removed]"
          },
          "metadata": {}
        },
        {
          "output_type": "stream",
          "name": "stdout",
          "text": [
            "\u001b[1m68/68\u001b[0m \u001b[32m━━━━━━━━━━━━━━━━━━━━\u001b[0m\u001b[37m\u001b[0m \u001b[1m0s\u001b[0m 2ms/step - accuracy: 0.9402 - loss: 0.1875\n",
            "資料的形式:(2786, 16)\n",
            "遺漏的數量:0\n",
            "(2786, 16)\n",
            "\u001b[1m88/88\u001b[0m \u001b[32m━━━━━━━━━━━━━━━━━━━━\u001b[0m\u001b[37m\u001b[0m \u001b[1m0s\u001b[0m 2ms/step\n"
          ]
        }
      ]
    },
    {
      "cell_type": "code",
      "source": [
        "from google.colab import drive\n",
        "drive.mount('/content/drive')"
      ],
      "metadata": {
        "id": "8kYo5KXYF0w6",
        "colab": {
          "base_uri": "https://localhost:8080/"
        },
        "outputId": "dc9558c6-b8e9-44ea-b1ae-5978665f7373"
      },
      "execution_count": null,
      "outputs": [
        {
          "output_type": "stream",
          "name": "stdout",
          "text": [
            "Drive already mounted at /content/drive; to attempt to forcibly remount, call drive.mount(\"/content/drive\", force_remount=True).\n"
          ]
        }
      ]
    }
  ]
}